{
 "cells": [
  {
   "cell_type": "code",
   "execution_count": null,
   "metadata": {},
   "outputs": [],
   "source": [
    "import os\n",
    "import glob\n",
    "\n",
    "mp4_files = glob.glob(os.path.join(\"/Users/thanh/Downloads/Video Input sample\", '*.mp4'))"
   ]
  },
  {
   "cell_type": "code",
   "execution_count": 13,
   "metadata": {},
   "outputs": [
    {
     "data": {
      "text/plain": [
       "20"
      ]
     },
     "execution_count": 13,
     "metadata": {},
     "output_type": "execute_result"
    }
   ],
   "source": [
    "mp4_files.__len__()"
   ]
  },
  {
   "cell_type": "code",
   "execution_count": null,
   "metadata": {},
   "outputs": [],
   "source": [
    "new_names = [\n",
    "  \"136058274725.mp4\",\n",
    "  \"256209585493.mp4\",\n",
    "  \"310864127408.mp4\",\n",
    "  \"417010272047.mp4\",\n",
    "  \"513194203802.mp4\",\n",
    "  \"527221490115.mp4\",\n",
    "  \"532958571648.mp4\",\n",
    "  \"542084845083.mp4\",\n",
    "  \"553029554766.mp4\",\n",
    "  \"559914674878.mp4\",\n",
    "  \"614587416968.mp4\",\n",
    "  \"678199783421.mp4\",\n",
    "  \"740695704687.mp4\",\n",
    "  \"773533949901.mp4\",\n",
    "  \"780994445120.mp4\",\n",
    "  \"785735432721.mp4\",\n",
    "  \"808433084183.mp4\",\n",
    "  \"820179254545.mp4\",\n",
    "  \"939080140083.mp4\",\n",
    "  \"959052299451.mp4\"\n",
    "]"
   ]
  },
  {
   "cell_type": "code",
   "execution_count": 14,
   "metadata": {},
   "outputs": [
    {
     "name": "stdout",
     "output_type": "stream",
     "text": [
      "Renamed /Users/thanh/Downloads/Video Input sample/43412313.mp4 to /Users/thanh/Downloads/Video Input sample/136058274725.mp4\n",
      "Renamed /Users/thanh/Downloads/Video Input sample/9234232.mp4 to /Users/thanh/Downloads/Video Input sample/256209585493.mp4\n",
      "Renamed /Users/thanh/Downloads/Video Input sample/4345345.mp4 to /Users/thanh/Downloads/Video Input sample/310864127408.mp4\n",
      "Renamed /Users/thanh/Downloads/Video Input sample/3453452.mp4 to /Users/thanh/Downloads/Video Input sample/417010272047.mp4\n",
      "Renamed /Users/thanh/Downloads/Video Input sample/2343242.mp4 to /Users/thanh/Downloads/Video Input sample/513194203802.mp4\n",
      "Renamed /Users/thanh/Downloads/Video Input sample/9674543.mp4 to /Users/thanh/Downloads/Video Input sample/527221490115.mp4\n",
      "Renamed /Users/thanh/Downloads/Video Input sample/12312312.mp4 to /Users/thanh/Downloads/Video Input sample/532958571648.mp4\n",
      "Renamed /Users/thanh/Downloads/Video Input sample/2343534.mp4 to /Users/thanh/Downloads/Video Input sample/542084845083.mp4\n",
      "Renamed /Users/thanh/Downloads/Video Input sample/7890789.mp4 to /Users/thanh/Downloads/Video Input sample/553029554766.mp4\n",
      "Renamed /Users/thanh/Downloads/Video Input sample/2353645.mp4 to /Users/thanh/Downloads/Video Input sample/559914674878.mp4\n",
      "Renamed /Users/thanh/Downloads/Video Input sample/7898978.mp4 to /Users/thanh/Downloads/Video Input sample/614587416968.mp4\n",
      "Renamed /Users/thanh/Downloads/Video Input sample/4564564.mp4 to /Users/thanh/Downloads/Video Input sample/678199783421.mp4\n",
      "Renamed /Users/thanh/Downloads/Video Input sample/7897899.mp4 to /Users/thanh/Downloads/Video Input sample/740695704687.mp4\n",
      "Renamed /Users/thanh/Downloads/Video Input sample/7898797.mp4 to /Users/thanh/Downloads/Video Input sample/773533949901.mp4\n",
      "Renamed /Users/thanh/Downloads/Video Input sample/7897897.mp4 to /Users/thanh/Downloads/Video Input sample/780994445120.mp4\n",
      "Renamed /Users/thanh/Downloads/Video Input sample/3346452.mp4 to /Users/thanh/Downloads/Video Input sample/785735432721.mp4\n",
      "Renamed /Users/thanh/Downloads/Video Input sample/3346232.mp4 to /Users/thanh/Downloads/Video Input sample/808433084183.mp4\n",
      "Renamed /Users/thanh/Downloads/Video Input sample/2342343.mp4 to /Users/thanh/Downloads/Video Input sample/820179254545.mp4\n",
      "Renamed /Users/thanh/Downloads/Video Input sample/3453463.mp4 to /Users/thanh/Downloads/Video Input sample/939080140083.mp4\n",
      "Renamed /Users/thanh/Downloads/Video Input sample/12312321.mp4 to /Users/thanh/Downloads/Video Input sample/959052299451.mp4\n"
     ]
    }
   ],
   "source": [
    " # Iterate over each file and rename it\n",
    "for idx, file_path in enumerate(mp4_files):\n",
    "    new_name = new_names[idx]\n",
    "    new_file_path = os.path.join(\"/Users/thanh/Downloads/Video Input sample\", new_name)\n",
    "\n",
    "    try:\n",
    "        os.rename(file_path, new_file_path)\n",
    "        print(f\"Renamed {file_path} to {new_file_path}\")\n",
    "    except OSError as e:\n",
    "        print(f\"Error renaming {file_path}: {e}\")"
   ]
  },
  {
   "cell_type": "code",
   "execution_count": null,
   "metadata": {},
   "outputs": [],
   "source": []
  },
  {
   "cell_type": "code",
   "execution_count": null,
   "metadata": {},
   "outputs": [],
   "source": []
  },
  {
   "cell_type": "code",
   "execution_count": null,
   "metadata": {},
   "outputs": [],
   "source": []
  }
 ],
 "metadata": {
  "kernelspec": {
   "display_name": "Python 3",
   "language": "python",
   "name": "python3"
  },
  "language_info": {
   "codemirror_mode": {
    "name": "ipython",
    "version": 3
   },
   "file_extension": ".py",
   "mimetype": "text/x-python",
   "name": "python",
   "nbconvert_exporter": "python",
   "pygments_lexer": "ipython3",
   "version": "3.9.6"
  }
 },
 "nbformat": 4,
 "nbformat_minor": 2
}
